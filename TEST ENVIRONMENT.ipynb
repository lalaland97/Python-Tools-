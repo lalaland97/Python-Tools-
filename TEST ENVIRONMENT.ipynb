import re
import os
from datetime import datetime

def extract_tables(sql_script):
    """
    Extract table names and identify volatile tables from the SQL script using regex.
    """
    create_table_pattern = re.compile(r'CREATE\s+(VOLATILE\s+)?TABLE\s+(\w+)', re.IGNORECASE)
    other_table_pattern = re.compile(r'(INSERT\s+INTO|MERGE\s+INTO|JOIN|FROM|UPDATE)\s+(\w+)', re.IGNORECASE)

    all_tables = set()
    volatile_tables = set()

    # Find tables created with CREATE TABLE statement
    create_matches = create_table_pattern.findall(sql_script)
    for match in create_matches:
        table_name = match[1]
        all_tables.add(table_name)
        if match[0].strip().upper() == 'VOLATILE':
            volatile_tables.add(table_name)

    # Find tables mentioned with other SQL keywords
    other_matches = other_table_pattern.findall(sql_script)
    for match in other_matches:
        table_name = match[1]
        if table_name not in volatile_tables:
            all_tables.add(table_name)

    return list(all_tables), list(volatile_tables)

def generate_statements(tables, with_data=True):
    """
    Generate SQL statements to create test tables using Teradata SQL syntax.
    """
    statements = []
    current_date = datetime.now().strftime('%d_%m_%Y')
    for table in tables:
        test_table_name = f"{table}_test_{current_date}"
        if with_data:
            statement = f"CREATE TABLE {test_table_name} AS {table} WITH DATA;"
        else:
            statement = f"CREATE TABLE {test_table_name} AS {table} WITH NO DATA;"
        statements.append(statement)
    return statements

def create_test_tables(sql_script, with_data=True):
    """
    Automate the process of creating test tables.
    """
    # Extract table names and volatile tables from the SQL script
    all_tables, volatile_tables = extract_tables(sql_script)
    
    # Identify non-volatile tables
    non_volatile_tables = [table for table in all_tables if table not in volatile_tables]
    
    # Generate SQL statements for test tables
    test_statements = generate_statements(non_volatile_tables, with_data)
    
    return test_statements

def process_files(directory_path, with_data=True, table_name_filter=None, single_output=False):
    """
    Process all SQL files in the given directory and only create test tables for scripts containing the specified table name.
    """
    all_statements = []

    for filename in os.listdir(directory_path):
        if filename.endswith(".sql"):
            input_file_path = os.path.join(directory_path, filename)
            
            # Read the SQL script from the input file
            with open(input_file_path, 'r') as file:
                sql_script = file.read()
            
            # Check if the SQL script contains the specified table name (if provided)
            if table_name_filter and not re.search(rf'\b{table_name_filter}\b', sql_script, re.IGNORECASE):
                continue

            test_statements = create_test_tables(sql_script, with_data)
            
            current_date = datetime.now().strftime('%d_%m_%Y')

            if single_output:
                all_statements.extend(test_statements)
            else:
                output_file_path = os.path.join(directory_path, f"test_{filename}_{current_date}.sql")
                with open(output_file_path, 'w') as file:
                    for statement in test_statements:
                        file.write(statement + '\n')
                print(f"Processed {filename} and saved test table SQL statements to test_{filename}_{current_date}.sql")

    if single_output and all_statements:
        current_date = datetime.now().strftime('%d_%m_%Y')
        output_file_path = os.path.join(directory_path, f"test_tables_{current_date}.sql")
        with open(output_file_path, 'w') as file:
            for statement in all_statements:
                file.write(statement + '\n')
        print(f"All test table SQL statements have been saved to {output_file_path}")

if __name__ == "__main__":
    # Path to the directory containing SQL files
    directory_path = r"C:\Users\asus\OneDrive\Desktop\sql_scripts"

    # Ask the user if they want the tables with data or without data
    with_data_input = input("Do you want to create the tables with data? (yes/no): ").strip().lower()
    with_data = with_data_input in ['yes', 'y']

    # Ask the user if they want to filter by a specific table name
    table_name_input = input("Enter a table name to filter the SQL scripts (leave blank to process all scripts): ").strip()
    table_name_filter = table_name_input if table_name_input else None

    # Ask the user if they want to output to a single file or separate files
    single_output_input = input("Do you want to output all statements to a single file? (yes/no): ").strip().lower()
    single_output = single_output_input in ['yes', 'y']

    # Process all SQL files in the directory
    process_files(directory_path, with_data, table_name_filter, single_output)
